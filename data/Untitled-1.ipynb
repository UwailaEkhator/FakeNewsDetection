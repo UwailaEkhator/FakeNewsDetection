{
 "cells": [
  {
   "cell_type": "code",
   "execution_count": 16,
   "metadata": {},
   "outputs": [],
   "source": [
    "import pandas as pd"
   ]
  },
  {
   "cell_type": "code",
   "execution_count": 65,
   "metadata": {},
   "outputs": [],
   "source": [
    "df=pd.read_csv('NewsContent.csv')"
   ]
  },
  {
   "cell_type": "code",
   "execution_count": 67,
   "metadata": {},
   "outputs": [
    {
     "data": {
      "text/plain": [
       "'{\\'generator\\': \\'Powered by Visual Composer - drag and drop page builder for WordPress.\\', \\'og\\': {\\'site_name\\': \\'Occupy Democrats\\', \\'description\\': \"This proves he\\'s morally unfit to lead this great country.\", \\'title\\': \\'Trump Just Insulted Millions Who Lost Everything In Bush\\\\\\'s Recession, \"That\\\\\\'s Just Business\"\\', \\'locale\\': \\'en_US\\', \\'image\\': {\\'width\\': 637, \\'identifier\\': \\'http://occupydemocrats.com/wp-content/uploads/debatefactcheck.jpg\\', \\'height\\': 321}, \\'url\\': \\'http://occupydemocrats.com/2016/09/27/trump-just-insulted-millions-lost-everything-bushs-recession-thats-just-business/\\', \\'type\\': \\'article\\'}, \\'twitter\\': {\\'image\\': \\'http://occupydemocrats.com/wp-content/uploads/debatefactcheck.jpg\\', \\'description\\': \"This proves he\\'s morally unfit to lead this great country.\", \\'card\\': \\'summary\\', \\'title\\': \\'Trump Just Insulted Millions Who Lost Everything In Bush\\\\\\'s Recession, \"That\\\\\\'s Just Business\"\\'}, \\'fb\\': {\\'admins\\': \\'100010978633754 , 66801782\\', \\'app_id\\': 187891551586426}, \\'msapplication-TileImage\\': \\'http://occupydemocrats.com/wp-content/uploads/odfavicon-2.gif\\', \\'article\\': {\\'section\\': \\'Economy\\', \\'tag\\': \\'style\\', \\'published_time\\': \\'2016-09-27T03:05:42-04:00\\'}, \\'viewport\\': \\'width=device-width, initial-scale=1, maximum-scale=1, user-scalable=1\\'}'"
      ]
     },
     "execution_count": 67,
     "metadata": {},
     "output_type": "execute_result"
    }
   ],
   "source": [
    "df['meta_data'][0]"
   ]
  },
  {
   "cell_type": "code",
   "execution_count": 61,
   "metadata": {},
   "outputs": [
    {
     "data": {
      "text/plain": [
       "Index(['NewsID', 'filename', 'keywords', 'summary', 'source', 'images',\n",
       "       'title', 'canonical_link', 'authors', 'text', 'publish_date', 'url',\n",
       "       'top_img', 'movies', 'meta_data'],\n",
       "      dtype='object')"
      ]
     },
     "execution_count": 61,
     "metadata": {},
     "output_type": "execute_result"
    }
   ],
   "source": [
    "df.columns"
   ]
  },
  {
   "cell_type": "code",
   "execution_count": 30,
   "metadata": {},
   "outputs": [],
   "source": [
    "df1=pd.read_csv('NewsContent.csv')"
   ]
  },
  {
   "cell_type": "code",
   "execution_count": 32,
   "metadata": {},
   "outputs": [
    {
     "data": {
      "text/plain": [
       "Index(['NewsID', 'filename', 'summary', 'text', 'movies', 'top_img',\n",
       "       'keywords', 'title', 'publish_date', 'source', 'canonical_link',\n",
       "       'images', 'url', 'authors', 'meta_data'],\n",
       "      dtype='object')"
      ]
     },
     "execution_count": 32,
     "metadata": {},
     "output_type": "execute_result"
    }
   ],
   "source": [
    "df1.columns"
   ]
  },
  {
   "cell_type": "code",
   "execution_count": 10,
   "metadata": {},
   "outputs": [
    {
     "data": {
      "text/plain": [
       "\"{'shareaholic': {'site_name': 'Now8News', 'language': 'en-US', 'url': 'http://now8news.com/united-airlines-flight-attendant-slaps-crying-baby/', 'article_author_name': 'Now8News', 'image': 'http://now8news.com/wp-content/uploads/2017/04/united-airlines-bad-pr-1024x683.jpg', 'site_id': 'abe4da0665bb9d26b7c873380fbf0c58', 'article_published_time': '2017-04-10T23:33:37+00:00', 'shareable_page': 'true', 'article_modified_time': '2017-07-31T17:30:28+00:00', 'keywords': 'news', 'wp_version': '7.8.0.4'}, 'generator': 'WordPress 4.8.1', 'og': {'site_name': 'Now8News', 'description': 'During a flight from New York City to Chicago, violence erupted after a flight attendant assaulted a 7 month-old baby boy. This comes just hours after a man was dragged off of an overbooked United Airlines flight when he refused to get off the plane. He was pulled out of his seat and thrown into the', 'title': 'United Airlines Flight Attendant Slaps Crying Baby During Flight - Now8News', 'locale': 'en_US', 'image': 'http://now8news.com/wp-content/uploads/2017/04/united-airlines-bad-pr.jpg', 'updated_time': '2017-04-10T23:33:37+00:00', 'url': 'http://now8news.com/united-airlines-flight-attendant-slaps-crying-baby/', 'type': 'article'}, 'twitter': {'url': 'http://now8news.com/united-airlines-flight-attendant-slaps-crying-baby/', 'image': 'http://now8news.com/wp-content/uploads/2017/04/united-airlines-bad-pr.jpg', 'description': 'During a flight from New York City to Chicago, violence erupted after a flight attendant assaulted a 7 month-old baby boy. This comes just hours after a man was dragged off of an overbooked United Airlines flight when he refused to get off the plane. He was pulled out of his seat and thrown into the', 'card': 'summary_large_image', 'title': 'United Airlines Flight Attendant Slaps Crying Baby During Flight - Now8News'}, 'msapplication-TileImage': 'http://now8news.com/wp-content/uploads/2016/09/cropped-cropped-LOGO_8_small-270x270.jpg', 'article': {'section': 'News', 'published_time': '2017-04-10T23:33:37+00:00', 'modified_time': '2017-04-10T23:33:37+00:00'}, 'viewport': 'width=device-width, initial-scale=1.0'}\""
      ]
     },
     "execution_count": 10,
     "metadata": {},
     "output_type": "execute_result"
    }
   ],
   "source": [
    "df['meta_data'][0]"
   ]
  },
  {
   "cell_type": "code",
   "execution_count": 11,
   "metadata": {},
   "outputs": [],
   "source": [
    "title='PolitiFact_Real_23-Webpage.json'"
   ]
  },
  {
   "cell_type": "code",
   "execution_count": 44,
   "metadata": {},
   "outputs": [
    {
     "name": "stdout",
     "output_type": "stream",
     "text": [
      "\u001b[31mERROR: Could not find a version that satisfies the requirement ghananlp (from versions: none)\u001b[0m\u001b[31m\n",
      "\u001b[0m\u001b[31mERROR: No matching distribution found for ghananlp\u001b[0m\u001b[31m\n",
      "\u001b[0mNote: you may need to restart the kernel to use updated packages.\n"
     ]
    }
   ],
   "source": [
    "pip install ghananlp"
   ]
  },
  {
   "cell_type": "code",
   "execution_count": 48,
   "metadata": {},
   "outputs": [
    {
     "name": "stdout",
     "output_type": "stream",
     "text": [
      "zsh:1: no such file or directory: 2.0.0\n",
      "Note: you may need to restart the kernel to use updated packages.\n"
     ]
    }
   ],
   "source": [
    "pip install numpy<2.0.0"
   ]
  },
  {
   "cell_type": "code",
   "execution_count": null,
   "metadata": {},
   "outputs": [],
   "source": []
  }
 ],
 "metadata": {
  "kernelspec": {
   "display_name": "Python 3",
   "language": "python",
   "name": "python3"
  },
  "language_info": {
   "codemirror_mode": {
    "name": "ipython",
    "version": 3
   },
   "file_extension": ".py",
   "mimetype": "text/x-python",
   "name": "python",
   "nbconvert_exporter": "python",
   "pygments_lexer": "ipython3",
   "version": "3.12.4"
  }
 },
 "nbformat": 4,
 "nbformat_minor": 2
}
