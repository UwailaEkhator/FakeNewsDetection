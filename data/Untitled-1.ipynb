{
 "cells": [
  {
   "cell_type": "code",
   "execution_count": 21,
   "metadata": {},
   "outputs": [],
   "source": [
    "import pandas as pd\n",
    "import ast\n",
    "from datetime import datetime"
   ]
  },
  {
   "cell_type": "code",
   "execution_count": 41,
   "metadata": {},
   "outputs": [
    {
     "data": {
      "text/html": [
       "<div>\n",
       "<style scoped>\n",
       "    .dataframe tbody tr th:only-of-type {\n",
       "        vertical-align: middle;\n",
       "    }\n",
       "\n",
       "    .dataframe tbody tr th {\n",
       "        vertical-align: top;\n",
       "    }\n",
       "\n",
       "    .dataframe thead th {\n",
       "        text-align: right;\n",
       "    }\n",
       "</style>\n",
       "<table border=\"1\" class=\"dataframe\">\n",
       "  <thead>\n",
       "    <tr style=\"text-align: right;\">\n",
       "      <th></th>\n",
       "      <th>NewsID</th>\n",
       "      <th>filename</th>\n",
       "      <th>url</th>\n",
       "      <th>text</th>\n",
       "      <th>movies</th>\n",
       "      <th>images</th>\n",
       "      <th>title</th>\n",
       "      <th>summary</th>\n",
       "      <th>publish_date</th>\n",
       "      <th>source</th>\n",
       "      <th>authors</th>\n",
       "      <th>keywords</th>\n",
       "      <th>meta_data</th>\n",
       "      <th>canonical_link</th>\n",
       "      <th>top_img</th>\n",
       "    </tr>\n",
       "  </thead>\n",
       "  <tbody>\n",
       "    <tr>\n",
       "      <th>0</th>\n",
       "      <td>1</td>\n",
       "      <td>PolitiFact_Real_1</td>\n",
       "      <td>http://occupydemocrats.com/2016/09/27/trump-ju...</td>\n",
       "      <td>16.8k SHARES SHARE THIS STORY\\n\\nHillary Clint...</td>\n",
       "      <td>[]</td>\n",
       "      <td>['http://occupydemocrats.com/wp-content/upload...</td>\n",
       "      <td>Trump Just Insulted Millions Who Lost Everythi...</td>\n",
       "      <td>NaN</td>\n",
       "      <td>{'$date': 1474934400000}</td>\n",
       "      <td>http://occupydemocrats.com</td>\n",
       "      <td>['Brett Bose', 'Grant Stern', 'Steve Bernstein...</td>\n",
       "      <td>[]</td>\n",
       "      <td>{'generator': 'Powered by Visual Composer - dr...</td>\n",
       "      <td>http://occupydemocrats.com/2016/09/27/trump-ju...</td>\n",
       "      <td>http://occupydemocrats.com/wp-content/uploads/...</td>\n",
       "    </tr>\n",
       "    <tr>\n",
       "      <th>1</th>\n",
       "      <td>2</td>\n",
       "      <td>PolitiFact_Real_2</td>\n",
       "      <td>http://occupydemocrats.com/2016/09/22/unhinged...</td>\n",
       "      <td>24.8k SHARES SHARE THIS STORY\\n\\nRepublican no...</td>\n",
       "      <td>[]</td>\n",
       "      <td>['http://occupydemocrats.com/wp-content/upload...</td>\n",
       "      <td>Trump Campaign Chair Says Racism Didn't Exist ...</td>\n",
       "      <td>NaN</td>\n",
       "      <td>{'$date': 1474502400000}</td>\n",
       "      <td>http://occupydemocrats.com</td>\n",
       "      <td>['Colin Taylor', 'Grant Stern', 'Brett Bose', ...</td>\n",
       "      <td>[]</td>\n",
       "      <td>{'generator': 'Powered by Visual Composer - dr...</td>\n",
       "      <td>http://occupydemocrats.com/2016/09/22/unhinged...</td>\n",
       "      <td>http://occupydemocrats.com/wp-content/uploads/...</td>\n",
       "    </tr>\n",
       "    <tr>\n",
       "      <th>2</th>\n",
       "      <td>3</td>\n",
       "      <td>PolitiFact_Real_3</td>\n",
       "      <td>NaN</td>\n",
       "      <td>The University of North Dakota is investigatin...</td>\n",
       "      <td>NaN</td>\n",
       "      <td>NaN</td>\n",
       "      <td>'Locked the black bitch out': White students u...</td>\n",
       "      <td>NaN</td>\n",
       "      <td>NaN</td>\n",
       "      <td>NaN</td>\n",
       "      <td>NaN</td>\n",
       "      <td>NaN</td>\n",
       "      <td>NaN</td>\n",
       "      <td>NaN</td>\n",
       "      <td>NaN</td>\n",
       "    </tr>\n",
       "    <tr>\n",
       "      <th>3</th>\n",
       "      <td>4</td>\n",
       "      <td>PolitiFact_Real_4</td>\n",
       "      <td>http://occupydemocrats.com/2016/09/21/massive-...</td>\n",
       "      <td>12k SHARES SHARE THIS STORY\\n\\nMassive protest...</td>\n",
       "      <td>[]</td>\n",
       "      <td>['http://occupydemocrats.com/wp-content/upload...</td>\n",
       "      <td>Massive Protests Erupt In North Carolina After...</td>\n",
       "      <td>NaN</td>\n",
       "      <td>{'$date': 1474416000000}</td>\n",
       "      <td>http://occupydemocrats.com</td>\n",
       "      <td>['Colin Taylor', 'Grant Stern', 'Brett Bose', ...</td>\n",
       "      <td>[]</td>\n",
       "      <td>{'generator': 'Powered by Visual Composer - dr...</td>\n",
       "      <td>http://occupydemocrats.com/2016/09/21/massive-...</td>\n",
       "      <td>http://occupydemocrats.com/wp-content/uploads/...</td>\n",
       "    </tr>\n",
       "    <tr>\n",
       "      <th>4</th>\n",
       "      <td>5</td>\n",
       "      <td>PolitiFact_Real_5</td>\n",
       "      <td>http://addictinginfo.org/2016/09/27/howard-dea...</td>\n",
       "      <td>In the first half of the debate, Donald Trump ...</td>\n",
       "      <td>[]</td>\n",
       "      <td>['http://i.imgur.com/JeqZLhj.png', 'https://d5...</td>\n",
       "      <td>Howard Dean ROASTS Trump Over Debate Sniffles:...</td>\n",
       "      <td>NaN</td>\n",
       "      <td>{'$date': 1474934400000}</td>\n",
       "      <td>http://addictinginfo.org</td>\n",
       "      <td>['Ryan Denson']</td>\n",
       "      <td>[]</td>\n",
       "      <td>{'publisher': 'Addicting Info | The Knowledge ...</td>\n",
       "      <td>http://addictinginfo.com/2016/09/27/howard-dea...</td>\n",
       "      <td>http://addictinginfo.addictinginfoent.netdna-c...</td>\n",
       "    </tr>\n",
       "    <tr>\n",
       "      <th>...</th>\n",
       "      <td>...</td>\n",
       "      <td>...</td>\n",
       "      <td>...</td>\n",
       "      <td>...</td>\n",
       "      <td>...</td>\n",
       "      <td>...</td>\n",
       "      <td>...</td>\n",
       "      <td>...</td>\n",
       "      <td>...</td>\n",
       "      <td>...</td>\n",
       "      <td>...</td>\n",
       "      <td>...</td>\n",
       "      <td>...</td>\n",
       "      <td>...</td>\n",
       "      <td>...</td>\n",
       "    </tr>\n",
       "    <tr>\n",
       "      <th>235</th>\n",
       "      <td>236</td>\n",
       "      <td>PolitiFact_Fake_116</td>\n",
       "      <td>http://redherald.com/gretchen-carlson-2nd-amen...</td>\n",
       "      <td>Gretchen Carlson is renewing her push for an A...</td>\n",
       "      <td>[]</td>\n",
       "      <td>['http://redherald.com/wp-content/uploads/2017...</td>\n",
       "      <td>\"The 2nd Amendment Was Written Before Guns Wer...</td>\n",
       "      <td>NaN</td>\n",
       "      <td>{'$date': 1498587832000}</td>\n",
       "      <td>http://redherald.com</td>\n",
       "      <td>[]</td>\n",
       "      <td>[]</td>\n",
       "      <td>{'generator': 'WordPress 4.8.1', 'og': {'site_...</td>\n",
       "      <td>http://redherald.com/gretchen-carlson-2nd-amen...</td>\n",
       "      <td>http://redherald.com/wp-content/uploads/2017/0...</td>\n",
       "    </tr>\n",
       "    <tr>\n",
       "      <th>236</th>\n",
       "      <td>237</td>\n",
       "      <td>PolitiFact_Fake_117</td>\n",
       "      <td>http://conservativearmy88.com/breaking-hollywo...</td>\n",
       "      <td>Many Hollywood celebrities announced that they...</td>\n",
       "      <td>[]</td>\n",
       "      <td>['http://conservativearmy88.com/wp-content/upl...</td>\n",
       "      <td>A Hollywood Star Is Moving To Canada Because O...</td>\n",
       "      <td>NaN</td>\n",
       "      <td>{'$date': 1500057441000}</td>\n",
       "      <td>http://conservativearmy88.com</td>\n",
       "      <td>[]</td>\n",
       "      <td>[]</td>\n",
       "      <td>{'description': 'Many Hollywood celebrities an...</td>\n",
       "      <td>http://conservativearmy88.com/breaking-hollywo...</td>\n",
       "      <td>http://conservativearmy88.com/wp-content/uploa...</td>\n",
       "    </tr>\n",
       "    <tr>\n",
       "      <th>237</th>\n",
       "      <td>238</td>\n",
       "      <td>PolitiFact_Fake_118</td>\n",
       "      <td>http://breaking.newsfeedhunter.com/russian-man...</td>\n",
       "      <td>Well, well, well…it looks like Obummer wasn’t ...</td>\n",
       "      <td>[]</td>\n",
       "      <td>['http://breaking.newsfeedhunter.com/wp-conten...</td>\n",
       "      <td>Russian Mansions Obama Seized Were Meant To Be...</td>\n",
       "      <td>NaN</td>\n",
       "      <td>{'$date': 1499900339000}</td>\n",
       "      <td>http://breaking.newsfeedhunter.com</td>\n",
       "      <td>[]</td>\n",
       "      <td>[]</td>\n",
       "      <td>{'description': 'Well, well, well…it looks lik...</td>\n",
       "      <td>http://breaking.newsfeedhunter.com/russian-man...</td>\n",
       "      <td>http://breaking.newsfeedhunter.com/wp-content/...</td>\n",
       "    </tr>\n",
       "    <tr>\n",
       "      <th>238</th>\n",
       "      <td>239</td>\n",
       "      <td>PolitiFact_Fake_119</td>\n",
       "      <td>http://dailythings.world/2017/07/20/barack-oba...</td>\n",
       "      <td>Barack Obama is a sick human being unfit for a...</td>\n",
       "      <td>[]</td>\n",
       "      <td>['http://dailythings.world/wp-content/uploads/...</td>\n",
       "      <td>Barack Obama Tweets SICK Attack On John McCain...</td>\n",
       "      <td>NaN</td>\n",
       "      <td>{'$date': 1500508800000}</td>\n",
       "      <td>http://dailythings.world</td>\n",
       "      <td>['Please Enter Your Name Here']</td>\n",
       "      <td>[]</td>\n",
       "      <td>{'generator': 'WordPress 4.8.1', 'author': 'ad...</td>\n",
       "      <td>http://dailythings.world/2017/07/20/barack-oba...</td>\n",
       "      <td>http://dailythings.world/wp-content/uploads/20...</td>\n",
       "    </tr>\n",
       "    <tr>\n",
       "      <th>239</th>\n",
       "      <td>240</td>\n",
       "      <td>PolitiFact_Fake_120</td>\n",
       "      <td>http://usadailynews24.com/wasserman-schultz-go...</td>\n",
       "      <td>The biggest story this week was the arrest of ...</td>\n",
       "      <td>['http://www.youtube.com/embed/q9wwKZYIxco?ver...</td>\n",
       "      <td>['https://i0.wp.com/usadailynews24.com/wp-cont...</td>\n",
       "      <td>Wasserman Schultz Going To Mental Hospital Aft...</td>\n",
       "      <td>NaN</td>\n",
       "      <td>{'$date': 1501283964000}</td>\n",
       "      <td>http://usadailynews24.com</td>\n",
       "      <td>[]</td>\n",
       "      <td>[]</td>\n",
       "      <td>{'description': 'The biggest story this week w...</td>\n",
       "      <td>http://usadailynews24.com/wasserman-schultz-go...</td>\n",
       "      <td>http://usadailynews24.com/wp-content/uploads/2...</td>\n",
       "    </tr>\n",
       "  </tbody>\n",
       "</table>\n",
       "<p>240 rows × 15 columns</p>\n",
       "</div>"
      ],
      "text/plain": [
       "     NewsID             filename  \\\n",
       "0         1    PolitiFact_Real_1   \n",
       "1         2    PolitiFact_Real_2   \n",
       "2         3    PolitiFact_Real_3   \n",
       "3         4    PolitiFact_Real_4   \n",
       "4         5    PolitiFact_Real_5   \n",
       "..      ...                  ...   \n",
       "235     236  PolitiFact_Fake_116   \n",
       "236     237  PolitiFact_Fake_117   \n",
       "237     238  PolitiFact_Fake_118   \n",
       "238     239  PolitiFact_Fake_119   \n",
       "239     240  PolitiFact_Fake_120   \n",
       "\n",
       "                                                   url  \\\n",
       "0    http://occupydemocrats.com/2016/09/27/trump-ju...   \n",
       "1    http://occupydemocrats.com/2016/09/22/unhinged...   \n",
       "2                                                  NaN   \n",
       "3    http://occupydemocrats.com/2016/09/21/massive-...   \n",
       "4    http://addictinginfo.org/2016/09/27/howard-dea...   \n",
       "..                                                 ...   \n",
       "235  http://redherald.com/gretchen-carlson-2nd-amen...   \n",
       "236  http://conservativearmy88.com/breaking-hollywo...   \n",
       "237  http://breaking.newsfeedhunter.com/russian-man...   \n",
       "238  http://dailythings.world/2017/07/20/barack-oba...   \n",
       "239  http://usadailynews24.com/wasserman-schultz-go...   \n",
       "\n",
       "                                                  text  \\\n",
       "0    16.8k SHARES SHARE THIS STORY\\n\\nHillary Clint...   \n",
       "1    24.8k SHARES SHARE THIS STORY\\n\\nRepublican no...   \n",
       "2    The University of North Dakota is investigatin...   \n",
       "3    12k SHARES SHARE THIS STORY\\n\\nMassive protest...   \n",
       "4    In the first half of the debate, Donald Trump ...   \n",
       "..                                                 ...   \n",
       "235  Gretchen Carlson is renewing her push for an A...   \n",
       "236  Many Hollywood celebrities announced that they...   \n",
       "237  Well, well, well…it looks like Obummer wasn’t ...   \n",
       "238  Barack Obama is a sick human being unfit for a...   \n",
       "239  The biggest story this week was the arrest of ...   \n",
       "\n",
       "                                                movies  \\\n",
       "0                                                   []   \n",
       "1                                                   []   \n",
       "2                                                  NaN   \n",
       "3                                                   []   \n",
       "4                                                   []   \n",
       "..                                                 ...   \n",
       "235                                                 []   \n",
       "236                                                 []   \n",
       "237                                                 []   \n",
       "238                                                 []   \n",
       "239  ['http://www.youtube.com/embed/q9wwKZYIxco?ver...   \n",
       "\n",
       "                                                images  \\\n",
       "0    ['http://occupydemocrats.com/wp-content/upload...   \n",
       "1    ['http://occupydemocrats.com/wp-content/upload...   \n",
       "2                                                  NaN   \n",
       "3    ['http://occupydemocrats.com/wp-content/upload...   \n",
       "4    ['http://i.imgur.com/JeqZLhj.png', 'https://d5...   \n",
       "..                                                 ...   \n",
       "235  ['http://redherald.com/wp-content/uploads/2017...   \n",
       "236  ['http://conservativearmy88.com/wp-content/upl...   \n",
       "237  ['http://breaking.newsfeedhunter.com/wp-conten...   \n",
       "238  ['http://dailythings.world/wp-content/uploads/...   \n",
       "239  ['https://i0.wp.com/usadailynews24.com/wp-cont...   \n",
       "\n",
       "                                                 title  summary  \\\n",
       "0    Trump Just Insulted Millions Who Lost Everythi...      NaN   \n",
       "1    Trump Campaign Chair Says Racism Didn't Exist ...      NaN   \n",
       "2    'Locked the black bitch out': White students u...      NaN   \n",
       "3    Massive Protests Erupt In North Carolina After...      NaN   \n",
       "4    Howard Dean ROASTS Trump Over Debate Sniffles:...      NaN   \n",
       "..                                                 ...      ...   \n",
       "235  \"The 2nd Amendment Was Written Before Guns Wer...      NaN   \n",
       "236  A Hollywood Star Is Moving To Canada Because O...      NaN   \n",
       "237  Russian Mansions Obama Seized Were Meant To Be...      NaN   \n",
       "238  Barack Obama Tweets SICK Attack On John McCain...      NaN   \n",
       "239  Wasserman Schultz Going To Mental Hospital Aft...      NaN   \n",
       "\n",
       "                 publish_date                              source  \\\n",
       "0    {'$date': 1474934400000}          http://occupydemocrats.com   \n",
       "1    {'$date': 1474502400000}          http://occupydemocrats.com   \n",
       "2                         NaN                                 NaN   \n",
       "3    {'$date': 1474416000000}          http://occupydemocrats.com   \n",
       "4    {'$date': 1474934400000}            http://addictinginfo.org   \n",
       "..                        ...                                 ...   \n",
       "235  {'$date': 1498587832000}                http://redherald.com   \n",
       "236  {'$date': 1500057441000}       http://conservativearmy88.com   \n",
       "237  {'$date': 1499900339000}  http://breaking.newsfeedhunter.com   \n",
       "238  {'$date': 1500508800000}            http://dailythings.world   \n",
       "239  {'$date': 1501283964000}           http://usadailynews24.com   \n",
       "\n",
       "                                               authors keywords  \\\n",
       "0    ['Brett Bose', 'Grant Stern', 'Steve Bernstein...       []   \n",
       "1    ['Colin Taylor', 'Grant Stern', 'Brett Bose', ...       []   \n",
       "2                                                  NaN      NaN   \n",
       "3    ['Colin Taylor', 'Grant Stern', 'Brett Bose', ...       []   \n",
       "4                                      ['Ryan Denson']       []   \n",
       "..                                                 ...      ...   \n",
       "235                                                 []       []   \n",
       "236                                                 []       []   \n",
       "237                                                 []       []   \n",
       "238                    ['Please Enter Your Name Here']       []   \n",
       "239                                                 []       []   \n",
       "\n",
       "                                             meta_data  \\\n",
       "0    {'generator': 'Powered by Visual Composer - dr...   \n",
       "1    {'generator': 'Powered by Visual Composer - dr...   \n",
       "2                                                  NaN   \n",
       "3    {'generator': 'Powered by Visual Composer - dr...   \n",
       "4    {'publisher': 'Addicting Info | The Knowledge ...   \n",
       "..                                                 ...   \n",
       "235  {'generator': 'WordPress 4.8.1', 'og': {'site_...   \n",
       "236  {'description': 'Many Hollywood celebrities an...   \n",
       "237  {'description': 'Well, well, well…it looks lik...   \n",
       "238  {'generator': 'WordPress 4.8.1', 'author': 'ad...   \n",
       "239  {'description': 'The biggest story this week w...   \n",
       "\n",
       "                                        canonical_link  \\\n",
       "0    http://occupydemocrats.com/2016/09/27/trump-ju...   \n",
       "1    http://occupydemocrats.com/2016/09/22/unhinged...   \n",
       "2                                                  NaN   \n",
       "3    http://occupydemocrats.com/2016/09/21/massive-...   \n",
       "4    http://addictinginfo.com/2016/09/27/howard-dea...   \n",
       "..                                                 ...   \n",
       "235  http://redherald.com/gretchen-carlson-2nd-amen...   \n",
       "236  http://conservativearmy88.com/breaking-hollywo...   \n",
       "237  http://breaking.newsfeedhunter.com/russian-man...   \n",
       "238  http://dailythings.world/2017/07/20/barack-oba...   \n",
       "239  http://usadailynews24.com/wasserman-schultz-go...   \n",
       "\n",
       "                                               top_img  \n",
       "0    http://occupydemocrats.com/wp-content/uploads/...  \n",
       "1    http://occupydemocrats.com/wp-content/uploads/...  \n",
       "2                                                  NaN  \n",
       "3    http://occupydemocrats.com/wp-content/uploads/...  \n",
       "4    http://addictinginfo.addictinginfoent.netdna-c...  \n",
       "..                                                 ...  \n",
       "235  http://redherald.com/wp-content/uploads/2017/0...  \n",
       "236  http://conservativearmy88.com/wp-content/uploa...  \n",
       "237  http://breaking.newsfeedhunter.com/wp-content/...  \n",
       "238  http://dailythings.world/wp-content/uploads/20...  \n",
       "239  http://usadailynews24.com/wp-content/uploads/2...  \n",
       "\n",
       "[240 rows x 15 columns]"
      ]
     },
     "execution_count": 41,
     "metadata": {},
     "output_type": "execute_result"
    }
   ],
   "source": [
    "df=pd.read_csv('NewsContent.csv')\n",
    "df"
   ]
  },
  {
   "cell_type": "code",
   "execution_count": 53,
   "metadata": {},
   "outputs": [
    {
     "name": "stderr",
     "output_type": "stream",
     "text": [
      "/var/folders/9l/7llcw8rd1jjgq13k9ckd1sf80000gr/T/ipykernel_25788/594033300.py:3: SettingWithCopyWarning: \n",
      "A value is trying to be set on a copy of a slice from a DataFrame\n",
      "\n",
      "See the caveats in the documentation: https://pandas.pydata.org/pandas-docs/stable/user_guide/indexing.html#returning-a-view-versus-a-copy\n",
      "  df['summary'][0]=summ\n",
      "/var/folders/9l/7llcw8rd1jjgq13k9ckd1sf80000gr/T/ipykernel_25788/594033300.py:3: FutureWarning: Setting an item of incompatible dtype is deprecated and will raise an error in a future version of pandas. Value 'This proves he's morally unfit to lead this great country.' has dtype incompatible with float64, please explicitly cast to a compatible dtype first.\n",
      "  df['summary'][0]=summ\n"
     ]
    }
   ],
   "source": [
    "meta=ast.literal_eval(df['meta_data'][0])\n",
    "summ=meta['og']['description']\n",
    "df['summary'][0]=summ"
   ]
  },
  {
   "cell_type": "code",
   "execution_count": 54,
   "metadata": {},
   "outputs": [
    {
     "data": {
      "text/plain": [
       "0      This proves he's morally unfit to lead this gr...\n",
       "1                                                    NaN\n",
       "2                                                    NaN\n",
       "3                                                    NaN\n",
       "4                                                    NaN\n",
       "                             ...                        \n",
       "235                                                  NaN\n",
       "236                                                  NaN\n",
       "237                                                  NaN\n",
       "238                                                  NaN\n",
       "239                                                  NaN\n",
       "Name: summary, Length: 240, dtype: object"
      ]
     },
     "execution_count": 54,
     "metadata": {},
     "output_type": "execute_result"
    }
   ],
   "source": [
    "df['summary']"
   ]
  },
  {
   "cell_type": "code",
   "execution_count": 37,
   "metadata": {},
   "outputs": [
    {
     "data": {
      "text/plain": [
       "'Colin Taylor, Grant Stern, Brett Bose, Natalie Dickinson'"
      ]
     },
     "execution_count": 37,
     "metadata": {},
     "output_type": "execute_result"
    }
   ],
   "source": [
    "list_string=df['authors'][3]\n",
    "list_items=ast.literal_eval(list_string)\n",
    "result=', '.join(list_items)\n",
    "result"
   ]
  },
  {
   "cell_type": "code",
   "execution_count": 28,
   "metadata": {},
   "outputs": [
    {
     "ename": "ValueError",
     "evalue": "malformed node or string: nan",
     "output_type": "error",
     "traceback": [
      "\u001b[0;31m---------------------------------------------------------------------------\u001b[0m",
      "\u001b[0;31mValueError\u001b[0m                                Traceback (most recent call last)",
      "Cell \u001b[0;32mIn[28], line 2\u001b[0m\n\u001b[1;32m      1\u001b[0m date_string\u001b[38;5;241m=\u001b[39mdf[\u001b[38;5;124m'\u001b[39m\u001b[38;5;124mpublish_date\u001b[39m\u001b[38;5;124m'\u001b[39m][\u001b[38;5;241m56\u001b[39m]\n\u001b[0;32m----> 2\u001b[0m date_dict \u001b[38;5;241m=\u001b[39m \u001b[43mast\u001b[49m\u001b[38;5;241;43m.\u001b[39;49m\u001b[43mliteral_eval\u001b[49m\u001b[43m(\u001b[49m\u001b[43mdate_string\u001b[49m\u001b[43m)\u001b[49m\n\u001b[1;32m      3\u001b[0m date\u001b[38;5;241m=\u001b[39mdatetime\u001b[38;5;241m.\u001b[39mfromtimestamp(date_dict[\u001b[38;5;124m'\u001b[39m\u001b[38;5;124m$date\u001b[39m\u001b[38;5;124m'\u001b[39m]\u001b[38;5;241m/\u001b[39m\u001b[38;5;241m1000\u001b[39m)\n\u001b[1;32m      4\u001b[0m date\u001b[38;5;241m=\u001b[39mdate\u001b[38;5;241m.\u001b[39mstrftime(\u001b[38;5;124m\"\u001b[39m\u001b[38;5;124m%\u001b[39m\u001b[38;5;124mm-\u001b[39m\u001b[38;5;132;01m%d\u001b[39;00m\u001b[38;5;124m-\u001b[39m\u001b[38;5;124m%\u001b[39m\u001b[38;5;124mY\u001b[39m\u001b[38;5;124m\"\u001b[39m)\n",
      "File \u001b[0;32m/Library/Frameworks/Python.framework/Versions/3.12/lib/python3.12/ast.py:112\u001b[0m, in \u001b[0;36mliteral_eval\u001b[0;34m(node_or_string)\u001b[0m\n\u001b[1;32m    110\u001b[0m                 \u001b[38;5;28;01mreturn\u001b[39;00m left \u001b[38;5;241m-\u001b[39m right\n\u001b[1;32m    111\u001b[0m     \u001b[38;5;28;01mreturn\u001b[39;00m _convert_signed_num(node)\n\u001b[0;32m--> 112\u001b[0m \u001b[38;5;28;01mreturn\u001b[39;00m \u001b[43m_convert\u001b[49m\u001b[43m(\u001b[49m\u001b[43mnode_or_string\u001b[49m\u001b[43m)\u001b[49m\n",
      "File \u001b[0;32m/Library/Frameworks/Python.framework/Versions/3.12/lib/python3.12/ast.py:111\u001b[0m, in \u001b[0;36mliteral_eval.<locals>._convert\u001b[0;34m(node)\u001b[0m\n\u001b[1;32m    109\u001b[0m         \u001b[38;5;28;01melse\u001b[39;00m:\n\u001b[1;32m    110\u001b[0m             \u001b[38;5;28;01mreturn\u001b[39;00m left \u001b[38;5;241m-\u001b[39m right\n\u001b[0;32m--> 111\u001b[0m \u001b[38;5;28;01mreturn\u001b[39;00m \u001b[43m_convert_signed_num\u001b[49m\u001b[43m(\u001b[49m\u001b[43mnode\u001b[49m\u001b[43m)\u001b[49m\n",
      "File \u001b[0;32m/Library/Frameworks/Python.framework/Versions/3.12/lib/python3.12/ast.py:85\u001b[0m, in \u001b[0;36mliteral_eval.<locals>._convert_signed_num\u001b[0;34m(node)\u001b[0m\n\u001b[1;32m     83\u001b[0m     \u001b[38;5;28;01melse\u001b[39;00m:\n\u001b[1;32m     84\u001b[0m         \u001b[38;5;28;01mreturn\u001b[39;00m \u001b[38;5;241m-\u001b[39m operand\n\u001b[0;32m---> 85\u001b[0m \u001b[38;5;28;01mreturn\u001b[39;00m \u001b[43m_convert_num\u001b[49m\u001b[43m(\u001b[49m\u001b[43mnode\u001b[49m\u001b[43m)\u001b[49m\n",
      "File \u001b[0;32m/Library/Frameworks/Python.framework/Versions/3.12/lib/python3.12/ast.py:76\u001b[0m, in \u001b[0;36mliteral_eval.<locals>._convert_num\u001b[0;34m(node)\u001b[0m\n\u001b[1;32m     74\u001b[0m \u001b[38;5;28;01mdef\u001b[39;00m \u001b[38;5;21m_convert_num\u001b[39m(node):\n\u001b[1;32m     75\u001b[0m     \u001b[38;5;28;01mif\u001b[39;00m \u001b[38;5;129;01mnot\u001b[39;00m \u001b[38;5;28misinstance\u001b[39m(node, Constant) \u001b[38;5;129;01mor\u001b[39;00m \u001b[38;5;28mtype\u001b[39m(node\u001b[38;5;241m.\u001b[39mvalue) \u001b[38;5;129;01mnot\u001b[39;00m \u001b[38;5;129;01min\u001b[39;00m (\u001b[38;5;28mint\u001b[39m, \u001b[38;5;28mfloat\u001b[39m, \u001b[38;5;28mcomplex\u001b[39m):\n\u001b[0;32m---> 76\u001b[0m         \u001b[43m_raise_malformed_node\u001b[49m\u001b[43m(\u001b[49m\u001b[43mnode\u001b[49m\u001b[43m)\u001b[49m\n\u001b[1;32m     77\u001b[0m     \u001b[38;5;28;01mreturn\u001b[39;00m node\u001b[38;5;241m.\u001b[39mvalue\n",
      "File \u001b[0;32m/Library/Frameworks/Python.framework/Versions/3.12/lib/python3.12/ast.py:73\u001b[0m, in \u001b[0;36mliteral_eval.<locals>._raise_malformed_node\u001b[0;34m(node)\u001b[0m\n\u001b[1;32m     71\u001b[0m \u001b[38;5;28;01mif\u001b[39;00m lno \u001b[38;5;241m:=\u001b[39m \u001b[38;5;28mgetattr\u001b[39m(node, \u001b[38;5;124m'\u001b[39m\u001b[38;5;124mlineno\u001b[39m\u001b[38;5;124m'\u001b[39m, \u001b[38;5;28;01mNone\u001b[39;00m):\n\u001b[1;32m     72\u001b[0m     msg \u001b[38;5;241m+\u001b[39m\u001b[38;5;241m=\u001b[39m \u001b[38;5;124mf\u001b[39m\u001b[38;5;124m'\u001b[39m\u001b[38;5;124m on line \u001b[39m\u001b[38;5;132;01m{\u001b[39;00mlno\u001b[38;5;132;01m}\u001b[39;00m\u001b[38;5;124m'\u001b[39m\n\u001b[0;32m---> 73\u001b[0m \u001b[38;5;28;01mraise\u001b[39;00m \u001b[38;5;167;01mValueError\u001b[39;00m(msg \u001b[38;5;241m+\u001b[39m \u001b[38;5;124mf\u001b[39m\u001b[38;5;124m'\u001b[39m\u001b[38;5;124m: \u001b[39m\u001b[38;5;132;01m{\u001b[39;00mnode\u001b[38;5;132;01m!r}\u001b[39;00m\u001b[38;5;124m'\u001b[39m)\n",
      "\u001b[0;31mValueError\u001b[0m: malformed node or string: nan"
     ]
    }
   ],
   "source": [
    "date_string=df['publish_date'][56]\n",
    "date_dict = ast.literal_eval(date_string)\n",
    "date=datetime.fromtimestamp(date_dict['$date']/1000)\n",
    "date=date.strftime(\"%m-%d-%Y\")\n",
    "date"
   ]
  },
  {
   "cell_type": "code",
   "execution_count": 61,
   "metadata": {},
   "outputs": [
    {
     "data": {
      "text/plain": [
       "Index(['NewsID', 'filename', 'keywords', 'summary', 'source', 'images',\n",
       "       'title', 'canonical_link', 'authors', 'text', 'publish_date', 'url',\n",
       "       'top_img', 'movies', 'meta_data'],\n",
       "      dtype='object')"
      ]
     },
     "execution_count": 61,
     "metadata": {},
     "output_type": "execute_result"
    }
   ],
   "source": [
    "df.columns"
   ]
  },
  {
   "cell_type": "code",
   "execution_count": 30,
   "metadata": {},
   "outputs": [],
   "source": [
    "df1=pd.read_csv('NewsContent.csv')"
   ]
  },
  {
   "cell_type": "code",
   "execution_count": 32,
   "metadata": {},
   "outputs": [
    {
     "data": {
      "text/plain": [
       "Index(['NewsID', 'filename', 'summary', 'text', 'movies', 'top_img',\n",
       "       'keywords', 'title', 'publish_date', 'source', 'canonical_link',\n",
       "       'images', 'url', 'authors', 'meta_data'],\n",
       "      dtype='object')"
      ]
     },
     "execution_count": 32,
     "metadata": {},
     "output_type": "execute_result"
    }
   ],
   "source": [
    "df1.columns"
   ]
  },
  {
   "cell_type": "code",
   "execution_count": 10,
   "metadata": {},
   "outputs": [
    {
     "data": {
      "text/plain": [
       "\"{'shareaholic': {'site_name': 'Now8News', 'language': 'en-US', 'url': 'http://now8news.com/united-airlines-flight-attendant-slaps-crying-baby/', 'article_author_name': 'Now8News', 'image': 'http://now8news.com/wp-content/uploads/2017/04/united-airlines-bad-pr-1024x683.jpg', 'site_id': 'abe4da0665bb9d26b7c873380fbf0c58', 'article_published_time': '2017-04-10T23:33:37+00:00', 'shareable_page': 'true', 'article_modified_time': '2017-07-31T17:30:28+00:00', 'keywords': 'news', 'wp_version': '7.8.0.4'}, 'generator': 'WordPress 4.8.1', 'og': {'site_name': 'Now8News', 'description': 'During a flight from New York City to Chicago, violence erupted after a flight attendant assaulted a 7 month-old baby boy. This comes just hours after a man was dragged off of an overbooked United Airlines flight when he refused to get off the plane. He was pulled out of his seat and thrown into the', 'title': 'United Airlines Flight Attendant Slaps Crying Baby During Flight - Now8News', 'locale': 'en_US', 'image': 'http://now8news.com/wp-content/uploads/2017/04/united-airlines-bad-pr.jpg', 'updated_time': '2017-04-10T23:33:37+00:00', 'url': 'http://now8news.com/united-airlines-flight-attendant-slaps-crying-baby/', 'type': 'article'}, 'twitter': {'url': 'http://now8news.com/united-airlines-flight-attendant-slaps-crying-baby/', 'image': 'http://now8news.com/wp-content/uploads/2017/04/united-airlines-bad-pr.jpg', 'description': 'During a flight from New York City to Chicago, violence erupted after a flight attendant assaulted a 7 month-old baby boy. This comes just hours after a man was dragged off of an overbooked United Airlines flight when he refused to get off the plane. He was pulled out of his seat and thrown into the', 'card': 'summary_large_image', 'title': 'United Airlines Flight Attendant Slaps Crying Baby During Flight - Now8News'}, 'msapplication-TileImage': 'http://now8news.com/wp-content/uploads/2016/09/cropped-cropped-LOGO_8_small-270x270.jpg', 'article': {'section': 'News', 'published_time': '2017-04-10T23:33:37+00:00', 'modified_time': '2017-04-10T23:33:37+00:00'}, 'viewport': 'width=device-width, initial-scale=1.0'}\""
      ]
     },
     "execution_count": 10,
     "metadata": {},
     "output_type": "execute_result"
    }
   ],
   "source": [
    "df['meta_data'][0]"
   ]
  },
  {
   "cell_type": "code",
   "execution_count": 11,
   "metadata": {},
   "outputs": [],
   "source": [
    "title='PolitiFact_Real_23-Webpage.json'"
   ]
  },
  {
   "cell_type": "code",
   "execution_count": 44,
   "metadata": {},
   "outputs": [
    {
     "name": "stdout",
     "output_type": "stream",
     "text": [
      "\u001b[31mERROR: Could not find a version that satisfies the requirement ghananlp (from versions: none)\u001b[0m\u001b[31m\n",
      "\u001b[0m\u001b[31mERROR: No matching distribution found for ghananlp\u001b[0m\u001b[31m\n",
      "\u001b[0mNote: you may need to restart the kernel to use updated packages.\n"
     ]
    }
   ],
   "source": [
    "pip install ghananlp"
   ]
  },
  {
   "cell_type": "code",
   "execution_count": 48,
   "metadata": {},
   "outputs": [
    {
     "name": "stdout",
     "output_type": "stream",
     "text": [
      "zsh:1: no such file or directory: 2.0.0\n",
      "Note: you may need to restart the kernel to use updated packages.\n"
     ]
    }
   ],
   "source": [
    "pip install numpy<2.0.0"
   ]
  },
  {
   "cell_type": "code",
   "execution_count": null,
   "metadata": {},
   "outputs": [],
   "source": []
  }
 ],
 "metadata": {
  "kernelspec": {
   "display_name": "Python 3",
   "language": "python",
   "name": "python3"
  },
  "language_info": {
   "codemirror_mode": {
    "name": "ipython",
    "version": 3
   },
   "file_extension": ".py",
   "mimetype": "text/x-python",
   "name": "python",
   "nbconvert_exporter": "python",
   "pygments_lexer": "ipython3",
   "version": "3.12.4"
  }
 },
 "nbformat": 4,
 "nbformat_minor": 2
}
